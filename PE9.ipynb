{
  "cells": [
    {
      "cell_type": "code",
      "execution_count": null,
      "metadata": {},
      "outputs": [],
      "source": [
        "!echo \"wireshark-common wireshark-common/install-setuid boolean true\" | debconf-set-selections\n",
        "!apt update\n",
        "!DEBIAN_FRONTEND=noninteractive apt-get install tshark build-essential -y\n",
        "!python3 -m pip install pip --upgrade\n",
        "!python3 -m pip install wheel --upgrade\n",
        "!python3 -m pip install buildtools --upgrade"
      ]
    },
    {
      "cell_type": "code",
      "execution_count": null,
      "metadata": {},
      "outputs": [],
      "source": [
        "%pip install tqdm nest-asyncio matplotlib mlxtend pyshark"
      ]
    },
    {
      "cell_type": "code",
      "execution_count": null,
      "metadata": {},
      "outputs": [],
      "source": [
        "import os\n",
        "import zipfile\n",
        "import requests\n",
        "import pandas as pd\n",
        "from tqdm import tqdm\n",
        "import matplotlib.pyplot as plt\n",
        "import numpy as np\n",
        "import pyshark\n",
        "import nest_asyncio\n",
        "import pandas as pd\n",
        "import matplotlib.pyplot as plt\n",
        "from sklearn.model_selection import train_test_split\n",
        "from sklearn.metrics import confusion_matrix\n",
        "from keras.layers import LSTM, Dense, Dropout, Embedding\n",
        "from keras.preprocessing import sequence\n",
        "from keras.utils import np_utils\n",
        "from keras.models import Sequential\n",
        "from keras.layers import SpatialDropout1D\n",
        "from mlxtend.plotting import plot_confusion_matrix\n",
        "from tensorflow import keras\n",
        "nest_asyncio.apply()"
      ]
    },
    {
      "cell_type": "code",
      "execution_count": null,
      "metadata": {
        "colab": {
          "base_uri": "https://localhost:8080/"
        },
        "id": "ycekPrt_87yf",
        "outputId": "a2261cfd-dea6-49d8-a73b-ac832fc803aa"
      },
      "outputs": [],
      "source": [
        "pcaps_urls = [\n",
        "    'https://www.malware-traffic-analysis.net/2019/07/25/2019-07-25-Hancitor-style-Amadey-with-Pony-and-Cobalt-Strike.pcap.zip',\n",
        "    'https://www.malware-traffic-analysis.net/2020/12/15/2020-12-15-Qakbot-infection-part-2-with-Cobalt-Strike.pcap.zip',\n",
        "    'https://www.malware-traffic-analysis.net/2020/12/07/2020-12-07-Qakbot-with-Cobalt-Strike-and-spambot-activity.pcap.zip',\n",
        "    'https://www.malware-traffic-analysis.net/2022/07/27/2022-07-27-IcedID-infections-2-pcaps.zip',\n",
        "    'https://www.malware-traffic-analysis.net/2022/07/26/2022-07-26-IcedID-with-DarkVNC-and-Cobalt-Strike-carved.pcap.zip',\n",
        "    'https://www.malware-traffic-analysis.net/2022/07/25/2022-07-25-IcedID-with-Cobalt-Strike-carved.pcap.zip',\n",
        "    'https://www.malware-traffic-analysis.net/2022/07/21/2022-07-22-IcedID-with-DarkVNC-and-Cobalt-Strike.pcap.zip',\n",
        "    'https://www.malware-traffic-analysis.net/2022/07/07/2022-07-07-Emotet-infection-with-Cobalt-Strike.pcap.zip',\n",
        "    'https://www.malware-traffic-analysis.net/2022/07/06/2022-07-06-TA578-Contact-Forms-IcedID-with-DarkVNC-and-Cobalt-Strike.pcap.zip'\n",
        "    ]\n",
        "extracted_pcaps = []\n",
        "for pcaps_url in pcaps_urls:\n",
        "    split_pcap = pcaps_url.split('/')\n",
        "    pcap_zip_filename = split_pcap[-1]\n",
        "    if os.path.exists(pcap_zip_filename) == False:\n",
        "        print('Downloading: ' + pcaps_url)\n",
        "        response = requests.get(pcaps_url)\n",
        "        open(pcap_zip_filename, \"wb\").write(response.content)\n",
        "    zip = zipfile.ZipFile(pcap_zip_filename)\n",
        "    for extracted_pcap in zip.namelist():\n",
        "        if os.path.exists(extracted_pcap) == False:\n",
        "            print('Extracting: ' + pcap_zip_filename)\n",
        "            zip.extractall(pwd=b'infected')\n",
        "            break\n",
        "    for extracted_pcap in zip.namelist():\n",
        "        extracted_pcaps.append(extracted_pcap)\n",
        "        print('Running tshark TCP conversations: ' + extracted_pcap)\n",
        "        os.system('tshark -r ' + extracted_pcap + ' -Qz \"conv,tcp\" > ' + extracted_pcap + '.txt')"
      ]
    },
    {
      "cell_type": "code",
      "execution_count": null,
      "metadata": {
        "id": "B7db-FanMLNW"
      },
      "outputs": [],
      "source": [
        "pcapBytesReceived = {}\n",
        "pcapBytesSent = {}\n",
        "for inputFilePath in extracted_pcaps:\n",
        "  bytesReceivedForPorts = [0] * 66000\n",
        "  bytesSentForPorts = [0] * 66000\n",
        "  f = open(inputFilePath + '.txt', mode=\"r\")\n",
        "  for line in f:\n",
        "    if not line[0].isnumeric():\n",
        "      continue\n",
        "    splitLine = line.split()\n",
        "    source = splitLine[0]\n",
        "    splitSource = source.split(':')\n",
        "    sourcePort = int(splitSource[1])\n",
        "    bytesReceivedForPorts[sourcePort] = int(splitLine[4])\n",
        "    bytesSentForPorts[sourcePort] = int(splitLine[6])\n",
        "  pcapBytesReceived[inputFilePath] = bytesReceivedForPorts\n",
        "  pcapBytesSent[inputFilePath] = bytesSentForPorts"
      ]
    },
    {
      "cell_type": "code",
      "execution_count": null,
      "metadata": {
        "colab": {
          "base_uri": "https://localhost:8080/"
        },
        "id": "VnQOC2qnuyqd",
        "outputId": "a038ebb6-72bd-46fa-d868-dd3a0005a962"
      },
      "outputs": [],
      "source": [
        "def getLastTCPAckSequence(inputFilePath):\n",
        "  tcpStreamLastPacketIPSrc = [''] * 100000 # List that maps TCP Stream ID to ACK Number\n",
        "  tcpStreamLastPacketAck = [0] * 100000 # List that maps TCP Stream ID to ACK Number\n",
        "  tcpStreamLastPacketSequence = [0] * 100000 # List that maps TCP Stream ID to ACK Number\n",
        "  capture = pyshark.FileCapture(inputFilePath, display_filter='tcp') # filter to display only TCP\n",
        "  for packet in tqdm(capture): # display progress bar\n",
        "    streamId = int(packet.tcp.stream)\n",
        "    tcpStreamLastPacketIPSrc[streamId] = str(packet.ip.src)\n",
        "    tcpStreamLastPacketAck[streamId] = int(packet.tcp.ack) # Total bytes Received\n",
        "    tcpStreamLastPacketSequence[streamId] = int(packet.tcp.seq) # Total bytes Sent\n",
        "  return tcpStreamLastPacketIPSrc, tcpStreamLastPacketAck, tcpStreamLastPacketSequence\n",
        "\n",
        "def getBytesReceivedSent(streamId, ipsrc, ipdst, tcpStreamLastPacketIPSrc, tcpStreamLastPacketAck, tcpStreamLastPacketSequence):\n",
        "  lastPacketIPSrc = tcpStreamLastPacketIPSrc[streamId]\n",
        "  if lastPacketIPSrc == ipsrc:\n",
        "    bytesReceived = tcpStreamLastPacketAck[streamId]\n",
        "    bytesSent = tcpStreamLastPacketSequence[streamId]\n",
        "    return bytesReceived, bytesSent\n",
        "  if lastPacketIPSrc == ipdst:\n",
        "    bytesSent = tcpStreamLastPacketAck[streamId]\n",
        "    bytesReceived = tcpStreamLastPacketSequence[streamId]\n",
        "    return bytesReceived, bytesSent\n",
        "  print(\"warning: no matching IP found for:\" + lastPacketIPSrc + \" in tcp stream:\" + str(streamId))\n",
        "  return 0, 0\n",
        "\n",
        "def getTimeDeltas(inputFilePath, bytesReceivedForPorts=None, bytesSentForPorts=None, tcpStreamLastPacketIPSrc=None, tcpStreamLastPacketAck=None, tcpStreamLastPacketSequence=None):\n",
        "  lastTimeStamps = {}\n",
        "  timeDeltasPerFlow = {}\n",
        "  totalBytesSentPerFlow = {}\n",
        "  totalBytesReceievedPerFlow = {}\n",
        "  capture = pyshark.FileCapture(inputFilePath, display_filter='tcp.flags.syn == 1') # filter to display only SYN packets\n",
        "  for packet in tqdm(capture): # display progress bar\n",
        "    ipsrc = str(packet.ip.src)\n",
        "    ipdst = str(packet.ip.dst)\n",
        "    dstport = str(packet.tcp.dstport)\n",
        "    # create a unique string to represent this flow. this will be used as key in dictionary\n",
        "    flowName = \"Src IP: \" + ipsrc + \" \" + \"Dest: \" + ipdst + \":\" + dstport\n",
        "    timestampFloat = float(packet.sniff_timestamp)\n",
        "    lastTimeStamp = lastTimeStamps.get(flowName) # get time stamp of latest packet sent in this flow\n",
        "    if lastTimeStamp: # if this is not the first packet seen in this flow\n",
        "      timeDelta = timestampFloat - lastTimeStamp # Number of seconds since last packet, based on TCP SYN\n",
        "      timeDeltas = timeDeltasPerFlow.setdefault(flowName, []) # create a new list for this flow, if it does not exist\n",
        "      timeDeltas.append(timeDelta) # append Time Delta to list\n",
        "      streamId = int(packet.tcp.stream)\n",
        "      totalBytesSent = totalBytesSentPerFlow.setdefault(flowName, []) # create a new list for this flow, if it does not exist\n",
        "      totalBytesReceived = totalBytesReceievedPerFlow.setdefault(flowName, []) # create a new list for this flow, if it does not exist\n",
        "      if bytesReceivedForPorts is not None:\n",
        "        sourcePort = int(packet.tcp.srcport)\n",
        "        bytesReceived = bytesReceivedForPorts[sourcePort]\n",
        "        bytesSent = bytesSentForPorts[sourcePort]\n",
        "      else:\n",
        "        bytesReceived, bytesSent = getBytesReceivedSent( \\\n",
        "          streamId, ipsrc, ipdst, tcpStreamLastPacketIPSrc, tcpStreamLastPacketAck, tcpStreamLastPacketSequence)\n",
        "      totalBytesSent.append(bytesSent)\n",
        "      totalBytesReceived.append(bytesReceived)\n",
        "    lastTimeStamps[flowName] = timestampFloat # set Timestamp for calculating next Time Delta\n",
        "  return timeDeltasPerFlow, totalBytesSentPerFlow, totalBytesReceievedPerFlow\n",
        "\n",
        "combinedTimeDeltasPerFlow = {}\n",
        "combinedTotalBytesSentPerFlow = {}\n",
        "combinedTotalBytesReceivedPerFlow = {}\n",
        "\n",
        "for inputFilePath in extracted_pcaps:\n",
        "  timeDeltasPerFlow, totalBytesSentPerFlow, totalBytesReceievedPerFlow = \\\n",
        "    getTimeDeltas(inputFilePath, \n",
        "                  bytesReceivedForPorts=pcapBytesReceived[inputFilePath],\n",
        "                  bytesSentForPorts=pcapBytesSent[inputFilePath])\n",
        "  \n",
        "  combinedTimeDeltasPerFlow.update(timeDeltasPerFlow)\n",
        "  combinedTotalBytesSentPerFlow.update(totalBytesSentPerFlow)\n",
        "  combinedTotalBytesReceivedPerFlow.update(totalBytesReceievedPerFlow)"
      ]
    },
    {
      "cell_type": "code",
      "execution_count": null,
      "metadata": {
        "colab": {
          "base_uri": "https://localhost:8080/"
        },
        "id": "mg5UYMXO3Lk9",
        "outputId": "a789c19a-0864-465c-cb94-e14f2313aaea"
      },
      "outputs": [],
      "source": [
        "# print sample of data for one single flow\n",
        "flowName = next(x for x in combinedTimeDeltasPerFlow.keys())\n",
        "print(flowName)\n",
        "print(combinedTimeDeltasPerFlow[flowName][0:5])\n",
        "print(combinedTotalBytesSentPerFlow[flowName][0:5])\n",
        "print(combinedTotalBytesReceivedPerFlow[flowName][0:5])"
      ]
    },
    {
      "cell_type": "code",
      "execution_count": null,
      "metadata": {
        "colab": {
          "base_uri": "https://localhost:8080/"
        },
        "id": "Ccuql2pu6seV",
        "outputId": "77016593-3c35-47e5-f5ca-01b4f3c31f56"
      },
      "outputs": [],
      "source": [
        "def getFilteredTimeDeltas(minimumPacketCount, timeDeltasPerFlow):\n",
        "  beaconScorePerFlow = {}\n",
        "  timeDeltasFilteredPerFlow = {}\n",
        "  for flowName, timeDeltas in tqdm(timeDeltasPerFlow.items()):\n",
        "      if len(timeDeltas) >= minimumPacketCount:\n",
        "          timeDeltasNumpy = np.array(timeDeltas)\n",
        "          median = np.percentile(timeDeltasNumpy, 50)\n",
        "          upperQuartile = np.percentile(timeDeltasNumpy, 75) # 75% of datapoints are less than this number\n",
        "          lowerQuartile = np.percentile(timeDeltasNumpy, 25) # 25% of datapoints are less than this number\n",
        "          interquartileRange = upperQuartile - lowerQuartile\n",
        "          lowerLimit = lowerQuartile - interquartileRange\n",
        "          upperLimit = upperQuartile + interquartileRange\n",
        "          filteredIndicies = np.where(np.logical_and(timeDeltasNumpy>=lowerLimit, timeDeltasNumpy<=upperLimit))\n",
        "          filteredList = timeDeltasNumpy[filteredIndicies]\n",
        "          standardDeviation = np.std(filteredList)\n",
        "          print(flowName)\n",
        "          beaconScorePerFlow[flowName] = median / max(1, standardDeviation)\n",
        "          timeDeltasFilteredPerFlow[flowName] = filteredList\n",
        "  return beaconScorePerFlow, timeDeltasFilteredPerFlow\n",
        "\n",
        "minimumPacketCount = 10\n",
        "beaconScorePerFlow, timeDeltasFilteredPerFlow = \\\n",
        "getFilteredTimeDeltas(minimumPacketCount, combinedTimeDeltasPerFlow) # filter out flows that have fewer than 20 connections"
      ]
    },
    {
      "cell_type": "code",
      "execution_count": null,
      "metadata": {
        "colab": {
          "base_uri": "https://localhost:8080/",
          "height": 1000
        },
        "id": "iSXlV8x7F1IG",
        "outputId": "3a3c027a-b365-495c-ad4c-e3cb5693aecb"
      },
      "outputs": [],
      "source": [
        "# sort flows, starting with lowest Standard Deviation first\n",
        "plt.ticklabel_format(style='plain')\n",
        "plt.ticklabel_format(useOffset=False)\n",
        "beaconScoreSorted = dict(sorted(beaconScorePerFlow.items(), key=lambda item: item[1], reverse=True))\n",
        "for flowName in beaconScoreSorted:\n",
        "  print(flowName)\n",
        "  x = timeDeltasFilteredPerFlow[flowName] # x-axis is Number of seconds since last packet, based on TCP SYN\n",
        "  none = plt.hist(x, bins='auto')\n",
        "  plt.title(flowName)\n",
        "  plt.tight_layout()    \n",
        "  plt.show()"
      ]
    },
    {
      "cell_type": "code",
      "execution_count": null,
      "metadata": {
        "colab": {
          "base_uri": "https://localhost:8080/"
        },
        "id": "G-EgFwj8T0u-",
        "outputId": "23a99605-5943-4700-b693-2d203a3ff2ba"
      },
      "outputs": [],
      "source": [
        "# training example dataset\n",
        "X = []\n",
        "\n",
        "# training example labels (0 = benign, 1 = malicious)\n",
        "BENIGN = 0\n",
        "MALICIOUS = 1\n",
        "Y = []\n",
        "\n",
        "labelsToText = ['Benign', 'Malicious']\n",
        "\n",
        "# break flows into steams containing 10 sequential packets each\n",
        "timeSteps = 10\n",
        "maximumPacketsToAnalyzePerFlow = 2000\n",
        "\n",
        "def appendSplit(flowName, yValue, X, Y, backLabels=None):\n",
        "\n",
        "  synTimeDeltas = combinedTimeDeltasPerFlow[flowName]\n",
        "  receivedSizes = combinedTotalBytesReceivedPerFlow[flowName]\n",
        "  sentSizes = combinedTotalBytesSentPerFlow[flowName]\n",
        "  maximumPacketsToAnalyze = min (len(synTimeDeltas), maximumPacketsToAnalyzePerFlow)\n",
        "  print(labelsToText[yValue] + \" \" + str(maximumPacketsToAnalyze - timeSteps) + \" \" + flowName)\n",
        "  for delta in range(maximumPacketsToAnalyze - timeSteps):\n",
        "    Y.append(yValue)\n",
        "    if backLabels is not None:\n",
        "      backLabels.append(flowName)\n",
        "    xdata = np.array([\n",
        "      synTimeDeltas[delta: delta + timeSteps], \\\n",
        "      np.log(np.array(receivedSizes[delta: delta + timeSteps])), \\\n",
        "      np.log(np.array(sentSizes[delta: delta + timeSteps])) \\\n",
        "    ])\n",
        "    X.append(xdata.transpose().tolist())\n",
        "\n",
        "#2020-12-07-Qakbot\n",
        "appendSplit(\"Src IP: 10.12.7.101 Dest: 23.106.160.138:8888\", MALICIOUS, X, Y) # 60 - 61 seconds\n",
        "appendSplit(\"Src IP: 10.12.7.101 Dest: 23.106.160.137:80\", MALICIOUS, X, Y) # 60 - 61 seconds\n",
        "#appendSplit(\"Src IP: 10.12.7.101 Dest: 173.201.192.101:465\", BENIGN, X, Y) # SMTPS  0 - 40 seconds\n",
        "appendSplit(\"Src IP: 10.12.7.101 Dest: 10.12.7.7:389\", BENIGN, X, Y) # LDAP  0 - 0.6 seconds\n",
        "appendSplit(\"Src IP: 10.12.7.101 Dest: 10.12.7.7:88\", BENIGN, X, Y) # Kerberos  0 - 0.35 seconds\n",
        "\n",
        "#2020-12-15-Qakbot\n",
        "appendSplit(\"Src IP: 10.12.15.101 Dest: 95.76.27.6:443\", MALICIOUS, X, Y) # 316 - 317 seconds easy to ID\n",
        "appendSplit(\"Src IP: 10.12.15.101 Dest: 172.241.27.244:8888\", MALICIOUS, X, Y) # 5 - 6 seconds\n",
        "appendSplit(\"Src IP: 10.12.15.101 Dest: 185.125.206.173:443\", MALICIOUS, X, Y) # 5 - 6 seconds\n",
        "appendSplit(\"Src IP: 10.12.15.101 Dest: 185.125.206.173:8080\", MALICIOUS, X, Y) # 5 - 6 seconds\n",
        "appendSplit(\"Src IP: 10.12.15.101 Dest: 10.12.15.15:49667\", BENIGN, X, Y) # 0 - 3000 seconds\n",
        "appendSplit(\"Src IP: 10.12.15.101 Dest: 10.12.15.15:135\", BENIGN, X, Y) # RPC  0 - 3000 seconds\n",
        "appendSplit(\"Src IP: 10.12.15.101 Dest: 172.241.27.244:443\", MALICIOUS, X, Y) # 5 - 6 seconds\n",
        "appendSplit(\"Src IP: 10.12.15.101 Dest: 172.241.27.244:80\", MALICIOUS, X, Y) # 5 - 6 seconds\n",
        "#appendSplit(\"Src IP: 10.12.15.101 Dest: 10.12.15.15:445\", BENIGN, X, Y) # potential FALSE POS traffic every 15 minutes, likely Active Directory\n",
        "#appendSplit(\"Src IP: 10.12.15.101 Dest: 78.101.199.138:995\", BENIGN, X, Y) # POP3S every 5 minutes\n",
        "appendSplit(\"Src IP: 10.12.15.101 Dest: 10.12.15.15:389\", BENIGN, X, Y) # LDAP 0-2000 seconds\n",
        "\n",
        "#2022-07-27-first\n",
        "appendSplit(\"Src IP: 10.7.27.101 Dest: 149.154.152.42:443\", MALICIOUS, X, Y) # 301 - 302 seconds\n",
        "\n",
        "#2022-07-27-second\n",
        "appendSplit(\"Src IP: 10.7.27.102 Dest: 165.227.210.86:443\", MALICIOUS, X, Y) # 295 - 302 seconds\n",
        "\n",
        "#2022-07-26-IcedID\n",
        "appendSplit(\"Src IP: 10.7.26.101 Dest: 108.62.118.133:443\", MALICIOUS, X, Y) # 0 - 6 seconds\n",
        "\n",
        "#2022-07-25-IcedID\n",
        "appendSplit(\"Src IP: 10.7.25.2 Dest: 172.93.193.21:443\", MALICIOUS, X, Y) # 5 - 6 seconds\n",
        "\n",
        "#2019-07-25-Hancitor\n",
        "appendSplit(\"Src IP: 10.7.25.101 Dest: 83.220.175.185:80\", MALICIOUS, X, Y) # 60 - 61 seconds\n",
        "appendSplit(\"Src IP: 10.7.25.101 Dest: 77.120.115.221:80\", MALICIOUS, X, Y) # JITTER example: many 0-10 seconds and 50-70 seconds\n",
        "#appendSplit(\"Src IP: 10.7.25.101 Dest: 31.44.184.33:80\", BENIGN, X_test, Y_test, backLabels=backLabels) # 0 - 0.6 seconds\n",
        "\n",
        "#2022-07-07-Emotet-infection-with-Cobalt-Strike.pcap\n",
        "appendSplit(\"Src IP: 10.7.7.101 Dest: 52.18.235.51:443\", MALICIOUS, X, Y) # 30-60 seconds - nice jitter\n",
        "appendSplit(\"Src IP: 10.7.7.101 Dest: 164.90.222.65:443\", MALICIOUS, X, Y) # 60-120 seconds - nice jitter\n",
        "\n",
        "#2022-07-06-TA578-Contact-Forms-IcedID-with-DarkVNC-and-Cobalt-Strike.pcap\n",
        "appendSplit(\"Src IP: 10.7.1.7 Dest: 198.44.132.80:8080\", MALICIOUS, X, Y) # 0-6 seconds\n",
        "appendSplit(\"Src IP: 10.7.1.7 Dest: 92.38.171.191:443\", MALICIOUS, X, Y) # 0-300 seconds\n",
        "\n",
        "X_train, X_test, Y_train, Y_test = train_test_split(X, Y, test_size=0.0001, shuffle=True)\n",
        "backLabels = [''] * len(Y_test)\n",
        "\n",
        "#appendSplit(\"Src IP: 10.12.15.101 Dest: 172.241.27.244:443\", MALICIOUS, X_test, Y_test, backLabels=backLabels) # 5 - 6 seconds\n",
        "#appendSplit(\"Src IP: 10.12.15.101 Dest: 10.12.15.15:389\", BENIGN, X_test, Y_test, backLabels=backLabels) # LDAP 0-2000 seconds\n",
        "\n",
        "#2022-07-22-IcedID-with-DarkVNC-and-Cobalt-Strike.pcap\n",
        "appendSplit(\"Src IP: 10.7.22.101 Dest: 149.154.152.42:443\", MALICIOUS, X_test, Y_test, backLabels=backLabels) # 300-303 seconds\n",
        "appendSplit(\"Src IP: 10.7.22.101 Dest: 188.93.233.241:443\", MALICIOUS, X_test, Y_test, backLabels=backLabels) # 300-302 seconds\n",
        "#appendSplit(\"Src IP: 10.7.22.101 Dest: 10.7.22.22:445\", BENIGN, X_test, Y_test, backLabels=backLabels) # potential FALSE POS traffic every 600-900 seconds, likely Active Directory\n",
        "appendSplit(\"Src IP: 10.7.22.101 Dest: 194.135.24.240:443\", MALICIOUS, X_test, Y_test, backLabels=backLabels) # 5-6 seconds\n",
        "appendSplit(\"Src IP: 10.7.22.101 Dest: 212.114.52.91:8080\", MALICIOUS, X_test, Y_test, backLabels=backLabels) # DarkVNC every 100 seconds, significant jitter\n",
        "appendSplit(\"Src IP: 10.7.22.101 Dest: 10.7.22.22:49667\", BENIGN, X_test, Y_test, backLabels=backLabels) # 0 - 3000 seconds\n",
        "appendSplit(\"Src IP: 10.7.22.101 Dest: 10.7.22.22:135\", BENIGN, X_test, Y_test, backLabels=backLabels) # RPC  0 - 3000 seconds\n",
        "appendSplit(\"Src IP: 10.7.22.101 Dest: 10.7.22.22:88\", BENIGN, X_test, Y_test, backLabels=backLabels) # Kerberos  0 - 0.35 seconds and 360 seconds\n",
        "appendSplit(\"Src IP: 10.7.22.101 Dest: 10.7.22.22:389\", BENIGN, X_test, Y_test, backLabels=backLabels) # Kerberos  0 - 0.35 seconds and 360 seconds\n",
        "\n"
      ]
    },
    {
      "cell_type": "code",
      "execution_count": null,
      "metadata": {
        "colab": {
          "base_uri": "https://localhost:8080/"
        },
        "id": "rX0zwUGmZXJ4",
        "outputId": "0ca9a911-4b1e-40d1-fe99-a117078cd72f"
      },
      "outputs": [],
      "source": [
        "print(np.array(X).ndim)\n",
        "print(X_test[19])\n",
        "print(Y_test[19])"
      ]
    },
    {
      "cell_type": "code",
      "execution_count": null,
      "metadata": {
        "colab": {
          "base_uri": "https://localhost:8080/"
        },
        "id": "RuQvUj_NEo-W",
        "outputId": "85da0de1-97ff-470d-af00-c46ad1ca7bbf"
      },
      "outputs": [],
      "source": [
        "data_dim = np.array(X).ndim\n",
        "def malware_model():\n",
        "    model = Sequential()\n",
        "    model.add(LSTM(32, dropout=0.2, return_sequences=False, input_shape=(timeSteps, data_dim)))\n",
        "    model.add(Dropout(0.1))\n",
        "    model.add(Dense(32, activation=\"relu\"))\n",
        "    model.add(Dense(1, name='out_layer', activation=\"linear\"))\n",
        "    return model\n",
        "\n",
        "model = malware_model()\n",
        "model.build()\n",
        "print(model.summary())\n",
        "optimizer = keras.optimizers.Adam(learning_rate=0.0001)\n",
        "model.compile(loss='mse', optimizer=optimizer, metrics=['accuracy'])\n",
        "\n",
        "filepath = \"lstm-malware-model2.hdf5\"\n",
        "#model.load_weights(filepath)\n",
        "history = {}"
      ]
    },
    {
      "cell_type": "code",
      "execution_count": null,
      "metadata": {
        "colab": {
          "base_uri": "https://localhost:8080/"
        },
        "id": "PkQjBX8rHTxP",
        "outputId": "ca35921e-2d84-4e0f-a242-b1b1c9685bed"
      },
      "outputs": [],
      "source": [
        "history = model.fit(X_train, Y_train, batch_size=1024, epochs=1200,\n",
        "                    validation_data=(X_test, Y_test), verbose=1)"
      ]
    },
    {
      "cell_type": "code",
      "execution_count": null,
      "metadata": {
        "colab": {
          "base_uri": "https://localhost:8080/",
          "height": 279
        },
        "id": "XD5FBp9jErqG",
        "outputId": "2eeebca5-0e31-4a9d-e517-72e25e09b3a2"
      },
      "outputs": [],
      "source": [
        "#y_test_pred = model.predict_classes(X_test)\n",
        "predict_x=model.predict(X_test) \n",
        "#y_test_pred=np.argmax(predict_x,axis=1)\n",
        "y_test_pred=np.where(predict_x >= 0.5, 1,0)\n",
        "#y_test_pred=np.where(predict_x >= 0.7, 1,0) #this decreases senistivity threshold for detection (needs to be 70% sure)\n",
        "cm = confusion_matrix(Y_test, y_test_pred)\n",
        "\n",
        "plot_confusion_matrix(cmap='viridis',\n",
        "                      conf_mat=cm,\n",
        "                      show_absolute=True,\n",
        "                      show_normed=True,\n",
        "                      colorbar=True)\n",
        "plt.savefig(\"confusion_matrix.png\")\n",
        "plt.show()"
      ]
    },
    {
      "cell_type": "code",
      "execution_count": null,
      "metadata": {
        "colab": {
          "base_uri": "https://localhost:8080/"
        },
        "id": "OoFFr4AOZoYl",
        "outputId": "61a96750-a4bf-4af1-b4f2-6a5ffdbbdd50"
      },
      "outputs": [],
      "source": [
        "showOnlyIncorrectPredictions = True\n",
        "print(len(X_test))\n",
        "for i in range(len(X_test)):\n",
        "  if y_test_pred[i] != Y_test[i]:\n",
        "    print('\\033[93m', end='')\n",
        "  if showOnlyIncorrectPredictions == False or y_test_pred[i] != Y_test[i]:\n",
        "    print(i, end=':')\n",
        "    print(' Truth: ' + labelsToText[Y_test[i]], end=';')\n",
        "    print(' Predicted: ' + str(predict_x[i]), end=';')\n",
        "    print(' FlowName: ' + backLabels[i], end=';')\n",
        "    print(X_test[i][0:5], end='')\n",
        "    print('\\033[0m')\n"
      ]
    },
    {
      "cell_type": "code",
      "execution_count": null,
      "metadata": {
        "colab": {
          "base_uri": "https://localhost:8080/",
          "height": 573
        },
        "id": "CD01BSKbEvxg",
        "outputId": "f9d12002-ff4e-408a-9fb5-d6145f87b120"
      },
      "outputs": [],
      "source": [
        "plt.plot(history.history['accuracy'])\n",
        "plt.plot(history.history['val_accuracy'])\n",
        "plt.title('model accuracy')\n",
        "plt.ylabel('accuracy')\n",
        "plt.xlabel('epoch')\n",
        "plt.legend(['train', 'test'], loc='upper left')\n",
        "plt.grid()\n",
        "plt.savefig(\"accuracy.png\")\n",
        "plt.show()\n",
        "\n",
        "plt.plot(history.history['loss'])\n",
        "plt.plot(history.history['val_loss'])\n",
        "plt.title('model loss')\n",
        "plt.ylabel('loss')\n",
        "plt.xlabel('epoch')\n",
        "plt.legend(['train', 'test'], loc='upper left')\n",
        "plt.grid()\n",
        "plt.savefig(\"loss.png\")\n",
        "plt.show()"
      ]
    }
  ],
  "metadata": {
    "accelerator": "GPU",
    "colab": {
      "collapsed_sections": [],
      "name": "PE9.ipynb",
      "provenance": [],
      "toc_visible": true
    },
    "gpuClass": "standard",
    "kernelspec": {
      "display_name": "Python 3.8.10 64-bit",
      "language": "python",
      "name": "python3"
    },
    "language_info": {
      "codemirror_mode": {
        "name": "ipython",
        "version": 3
      },
      "file_extension": ".py",
      "mimetype": "text/x-python",
      "name": "python",
      "nbconvert_exporter": "python",
      "pygments_lexer": "ipython3",
      "version": "3.8.10"
    },
    "vscode": {
      "interpreter": {
        "hash": "e7370f93d1d0cde622a1f8e1c04877d8463912d04d973331ad4851f04de6915a"
      }
    }
  },
  "nbformat": 4,
  "nbformat_minor": 0
}
